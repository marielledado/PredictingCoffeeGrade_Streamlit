{
 "cells": [
  {
   "cell_type": "markdown",
   "metadata": {},
   "source": [
    "# ☕ How Special is Your Specialty Coffee? - Model Development"
   ]
  },
  {
   "cell_type": "code",
   "execution_count": 1,
   "metadata": {},
   "outputs": [],
   "source": [
    "# Imports\n",
    "import pandas as pd\n",
    "import numpy as np\n",
    "\n",
    "# sklearn imports\n",
    "from sklearn.compose import ColumnTransformer\n",
    "from sklearn.pipeline import Pipeline\n",
    "from sklearn.metrics import accuracy_score\n",
    "from sklearn.preprocessing import MinMaxScaler\n",
    "from sklearn.preprocessing import OneHotEncoder\n",
    "from sklearn.utils import resample\n",
    "\n",
    "from sklearn.model_selection import train_test_split\n",
    "from sklearn.ensemble import RandomForestClassifier\n",
    "from sklearn.model_selection import cross_val_score\n",
    "from sklearn.metrics import classification_report\n",
    "\n",
    "from joblib import dump, load"
   ]
  },
  {
   "cell_type": "code",
   "execution_count": 2,
   "metadata": {},
   "outputs": [
    {
     "data": {
      "text/html": [
       "<div>\n",
       "<style scoped>\n",
       "    .dataframe tbody tr th:only-of-type {\n",
       "        vertical-align: middle;\n",
       "    }\n",
       "\n",
       "    .dataframe tbody tr th {\n",
       "        vertical-align: top;\n",
       "    }\n",
       "\n",
       "    .dataframe thead th {\n",
       "        text-align: right;\n",
       "    }\n",
       "</style>\n",
       "<table border=\"1\" class=\"dataframe\">\n",
       "  <thead>\n",
       "    <tr style=\"text-align: right;\">\n",
       "      <th></th>\n",
       "      <th>score</th>\n",
       "      <th>altitude</th>\n",
       "      <th>region</th>\n",
       "      <th>processing</th>\n",
       "      <th>variety</th>\n",
       "    </tr>\n",
       "  </thead>\n",
       "  <tbody>\n",
       "    <tr>\n",
       "      <th>0</th>\n",
       "      <td>90.58</td>\n",
       "      <td>2075.0</td>\n",
       "      <td>Africa</td>\n",
       "      <td>Washed / Wet</td>\n",
       "      <td>Ethiopian Varieties</td>\n",
       "    </tr>\n",
       "    <tr>\n",
       "      <th>1</th>\n",
       "      <td>89.92</td>\n",
       "      <td>2075.0</td>\n",
       "      <td>Africa</td>\n",
       "      <td>Washed / Wet</td>\n",
       "      <td>Ethiopian Varieties</td>\n",
       "    </tr>\n",
       "    <tr>\n",
       "      <th>2</th>\n",
       "      <td>89.75</td>\n",
       "      <td>1700.0</td>\n",
       "      <td>Central America</td>\n",
       "      <td>Washed / Wet</td>\n",
       "      <td>Bourbon</td>\n",
       "    </tr>\n",
       "    <tr>\n",
       "      <th>3</th>\n",
       "      <td>89.00</td>\n",
       "      <td>2000.0</td>\n",
       "      <td>Africa</td>\n",
       "      <td>Natural / Dry</td>\n",
       "      <td>Ethiopian Varieties</td>\n",
       "    </tr>\n",
       "    <tr>\n",
       "      <th>4</th>\n",
       "      <td>88.83</td>\n",
       "      <td>2075.0</td>\n",
       "      <td>Africa</td>\n",
       "      <td>Washed / Wet</td>\n",
       "      <td>Ethiopian Varieties</td>\n",
       "    </tr>\n",
       "  </tbody>\n",
       "</table>\n",
       "</div>"
      ],
      "text/plain": [
       "   score  altitude           region     processing              variety\n",
       "0  90.58    2075.0           Africa   Washed / Wet  Ethiopian Varieties\n",
       "1  89.92    2075.0           Africa   Washed / Wet  Ethiopian Varieties\n",
       "2  89.75    1700.0  Central America   Washed / Wet              Bourbon\n",
       "3  89.00    2000.0           Africa  Natural / Dry  Ethiopian Varieties\n",
       "4  88.83    2075.0           Africa   Washed / Wet  Ethiopian Varieties"
      ]
     },
     "metadata": {},
     "output_type": "display_data"
    },
    {
     "name": "stdout",
     "output_type": "stream",
     "text": [
      "The dataset has 1232 rows and 5 columns\n"
     ]
    }
   ],
   "source": [
    "df = pd.read_csv(\"../data/df_combined.csv\", index_col=[0])\n",
    "\n",
    "# Delete duplicates\n",
    "df=df.drop_duplicates(keep=\"last\")\n",
    "\n",
    "display(df.head())\n",
    "\n",
    "print(f\"The dataset has {df.shape[0]} rows and {df.shape[1]} columns\")"
   ]
  },
  {
   "cell_type": "code",
   "execution_count": 3,
   "metadata": {},
   "outputs": [
    {
     "data": {
      "text/plain": [
       "0.0    1099\n",
       "1.0     123\n",
       "Name: score_binary, dtype: int64"
      ]
     },
     "execution_count": 3,
     "metadata": {},
     "output_type": "execute_result"
    }
   ],
   "source": [
    "# Binarizing \"score\"\n",
    "df.drop(df[df[\"score\"]<80].index, inplace=True)\n",
    "\n",
    "for idx in df.index:\n",
    "    if df.loc[idx,\"score\"] >=85:\n",
    "        df.loc[idx, \"score_binary\"] = 1\n",
    "    else:\n",
    "        df.loc[idx, \"score_binary\"] = 0\n",
    "\n",
    "# Data is imbalanced\n",
    "df.loc[:,\"score_binary\"].value_counts()"
   ]
  },
  {
   "cell_type": "code",
   "execution_count": 4,
   "metadata": {},
   "outputs": [
    {
     "data": {
      "text/plain": [
       "1.0    1099\n",
       "0.0    1099\n",
       "Name: score_binary, dtype: int64"
      ]
     },
     "execution_count": 4,
     "metadata": {},
     "output_type": "execute_result"
    }
   ],
   "source": [
    "# Separate majority and minority classes\n",
    "df_majority = df[df[\"score_binary\"]==0]\n",
    "df_minority = df[df[\"score_binary\"]==1]\n",
    "\n",
    "# Upsample minority class\n",
    "df_minority_upsampled = resample(df_minority, \n",
    "                                 replace=True,     # sample with replacement\n",
    "                                 n_samples=1099,    # to match majority class\n",
    "                                 random_state=42) # reproducible results\n",
    " \n",
    "# Combine majority class with upsampled minority class\n",
    "df_upsampled = pd.concat([df_majority, df_minority_upsampled])\n",
    " \n",
    "# Display new class counts\n",
    "df_upsampled[\"score_binary\"].value_counts()"
   ]
  },
  {
   "cell_type": "code",
   "execution_count": 5,
   "metadata": {},
   "outputs": [],
   "source": [
    "# Scaling numeric features\n",
    "numeric_features = [\"altitude\"]\n",
    "numeric_transformer = Pipeline(steps=[('scaler', MinMaxScaler())])\n",
    "\n",
    "# Onehot encoding for categorical features\n",
    "categorical_features = [\"region\", \"processing\", \"variety\"]\n",
    "categorical_transformer = Pipeline(steps=[('onehot', OneHotEncoder(sparse=False, handle_unknown=\"ignore\"))])\n",
    "preprocessor = ColumnTransformer(\n",
    "    transformers=[('num', numeric_transformer, numeric_features),\n",
    "                  ('cat', categorical_transformer, categorical_features)])\n",
    "\n",
    "# Pipeline\n",
    "clf = Pipeline(steps=[('preprocessor', preprocessor),\n",
    "                      ('classifier', RandomForestClassifier(random_state = 42))])"
   ]
  },
  {
   "cell_type": "code",
   "execution_count": 6,
   "metadata": {},
   "outputs": [
    {
     "name": "stdout",
     "output_type": "stream",
     "text": [
      "Mean cross validation accuracy: 0.8634623546388251\n",
      "Test accuracy: 0.8848484848484849\n"
     ]
    }
   ],
   "source": [
    "# Create feature/target matrix\n",
    "features_upsampled = df_upsampled[[\"altitude\", \"region\", \"processing\", \"variety\"]]\n",
    "target_upsampled = df_upsampled[\"score_binary\"]\n",
    "\n",
    "# Split into training and test sets\n",
    "features_train, features_test, target_train, target_test = train_test_split(features_upsampled, \n",
    "                                                                            target_upsampled, \n",
    "                                                                            test_size = 0.3, \n",
    "                                                                            random_state = 42)\n",
    "clf.fit(features_train, target_train)\n",
    "\n",
    "# Cross validation score\n",
    "cv_score = cross_val_score(clf, features_train, target_train, cv=10, scoring=\"accuracy\")\n",
    "print(f\"Mean cross validation accuracy: {np.mean(cv_score)}\")\n",
    "\n",
    "# Test score\n",
    "target_pred = clf.predict(features_test)\n",
    "print(f\"Test accuracy: {accuracy_score(target_test, target_pred)}\")"
   ]
  },
  {
   "cell_type": "code",
   "execution_count": 7,
   "metadata": {},
   "outputs": [
    {
     "data": {
      "text/plain": [
       "['../model/coffee_clf.joblib']"
      ]
     },
     "execution_count": 7,
     "metadata": {},
     "output_type": "execute_result"
    }
   ],
   "source": [
    "# Save model\n",
    "dump(clf, '../model/coffee_clf.joblib') "
   ]
  }
 ],
 "metadata": {
  "kernelspec": {
   "display_name": "sandbox",
   "language": "python",
   "name": "sandbox"
  },
  "language_info": {
   "codemirror_mode": {
    "name": "ipython",
    "version": 3
   },
   "file_extension": ".py",
   "mimetype": "text/x-python",
   "name": "python",
   "nbconvert_exporter": "python",
   "pygments_lexer": "ipython3",
   "version": "3.8.5"
  }
 },
 "nbformat": 4,
 "nbformat_minor": 4
}
